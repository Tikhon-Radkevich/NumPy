{
  "nbformat": 4,
  "nbformat_minor": 0,
  "metadata": {
    "colab": {
      "provenance": [],
      "authorship_tag": "ABX9TyNdUPn53N5tOTbObNKwCelF"
    },
    "kernelspec": {
      "name": "python3",
      "display_name": "Python 3"
    },
    "language_info": {
      "name": "python"
    }
  },
  "cells": [
    {
      "cell_type": "code",
      "execution_count": 1,
      "metadata": {
        "id": "VRckqrZlLyt4"
      },
      "outputs": [],
      "source": [
        "import numpy as np\n",
        "\n",
        "a = np.arange(0, 27)\n",
        "a = a.reshape(3, 3, 3)\n",
        "\n",
        "b = np.arange(10, 37)\n",
        "b = b.reshape(3, 3, 3)"
      ]
    },
    {
      "cell_type": "code",
      "source": [
        "print(a, b, sep=\"\\n\"*3)"
      ],
      "metadata": {
        "colab": {
          "base_uri": "https://localhost:8080/"
        },
        "id": "z016yXsZNIeJ",
        "outputId": "131111dc-d724-4570-c4c1-87e332864953"
      },
      "execution_count": null,
      "outputs": [
        {
          "output_type": "stream",
          "name": "stdout",
          "text": [
            "[[[ 0  1  2]\n",
            "  [ 3  4  5]\n",
            "  [ 6  7  8]]\n",
            "\n",
            " [[ 9 10 11]\n",
            "  [12 13 14]\n",
            "  [15 16 17]]\n",
            "\n",
            " [[18 19 20]\n",
            "  [21 22 23]\n",
            "  [24 25 26]]]\n",
            "\n",
            "\n",
            "[[[10 11 12]\n",
            "  [13 14 15]\n",
            "  [16 17 18]]\n",
            "\n",
            " [[19 20 21]\n",
            "  [22 23 24]\n",
            "  [25 26 27]]\n",
            "\n",
            " [[28 29 30]\n",
            "  [31 32 33]\n",
            "  [34 35 36]]]\n"
          ]
        }
      ]
    },
    {
      "cell_type": "markdown",
      "source": [
        "## sum"
      ],
      "metadata": {
        "id": "VkhDsr79M48P"
      }
    },
    {
      "cell_type": "code",
      "source": [
        "np.sum(a, axis=0)"
      ],
      "metadata": {
        "colab": {
          "base_uri": "https://localhost:8080/"
        },
        "id": "Kt8h9jlsMoa-",
        "outputId": "6bf043c0-c51d-47b5-9945-47550c807e69"
      },
      "execution_count": null,
      "outputs": [
        {
          "output_type": "execute_result",
          "data": {
            "text/plain": [
              "array([[27, 30, 33],\n",
              "       [36, 39, 42],\n",
              "       [45, 48, 51]])"
            ]
          },
          "metadata": {},
          "execution_count": 15
        }
      ]
    },
    {
      "cell_type": "code",
      "source": [
        "np.sum(a, axis=2)"
      ],
      "metadata": {
        "colab": {
          "base_uri": "https://localhost:8080/"
        },
        "id": "yIQ3G_gAOh0r",
        "outputId": "ee6a3236-f238-4c72-d296-58d36a0e9649"
      },
      "execution_count": null,
      "outputs": [
        {
          "output_type": "execute_result",
          "data": {
            "text/plain": [
              "array([[ 3, 12, 21],\n",
              "       [30, 39, 48],\n",
              "       [57, 66, 75]])"
            ]
          },
          "metadata": {},
          "execution_count": 16
        }
      ]
    },
    {
      "cell_type": "markdown",
      "source": [
        "## multiplication"
      ],
      "metadata": {
        "id": "FLX2_udaO4ce"
      }
    },
    {
      "cell_type": "code",
      "source": [
        "np.dot(np.array([1, 5]), np.array([3, 8]))"
      ],
      "metadata": {
        "colab": {
          "base_uri": "https://localhost:8080/"
        },
        "id": "8gsCyAHrPB6g",
        "outputId": "46e9cda2-4464-42e2-f77e-75ad97b7608d"
      },
      "execution_count": null,
      "outputs": [
        {
          "output_type": "execute_result",
          "data": {
            "text/plain": [
              "43"
            ]
          },
          "metadata": {},
          "execution_count": 18
        }
      ]
    },
    {
      "cell_type": "markdown",
      "source": [
        "## Write a NumPy program to add a vector to each row of a given matrix"
      ],
      "metadata": {
        "id": "yGG1d_abPn1Q"
      }
    },
    {
      "cell_type": "code",
      "source": [
        "m = np.array([[1,2,3], [4,5,6], [7,8,9], [10, 11, 12]])\n",
        "v = np.array([1, 1, 0])\n",
        "print(\"Original vector:\")\n",
        "print(v)\n",
        "print(\"Original matrix:\")\n",
        "print(m)\n",
        "result = np.empty_like(m) \n",
        "for i in range(4):\n",
        "  result[i, :] = m[i, :] + v\n",
        "print(\"\\nAfter adding the vector v to each row of the matrix m:\")\n",
        "print(result)"
      ],
      "metadata": {
        "colab": {
          "base_uri": "https://localhost:8080/"
        },
        "id": "2PdgY1UbQGFy",
        "outputId": "c309c8af-b17f-492b-dc8f-a2f901f5c468"
      },
      "execution_count": null,
      "outputs": [
        {
          "output_type": "stream",
          "name": "stdout",
          "text": [
            "Original vector:\n",
            "[1 1 0]\n",
            "Original matrix:\n",
            "[[ 1  2  3]\n",
            " [ 4  5  6]\n",
            " [ 7  8  9]\n",
            " [10 11 12]]\n",
            "\n",
            "After adding the vector v to each row of the matrix m:\n",
            "[[ 2  3  3]\n",
            " [ 5  6  6]\n",
            " [ 8  9  9]\n",
            " [11 12 12]]\n"
          ]
        }
      ]
    },
    {
      "cell_type": "markdown",
      "source": [
        "## Write a NumPy program to save two given arrays into a single file in compressed format (.npz format) and load it"
      ],
      "metadata": {
        "id": "WBCIGdGkQWWA"
      }
    },
    {
      "cell_type": "code",
      "source": [
        "import os\n",
        "x = np.arange(10)\n",
        "y = np.arange(11, 20)\n",
        "print(\"Original arrays:\")\n",
        "print(x)\n",
        "print(y)\n",
        "np.savez('temp_arra.npz', x=x, y=y)\n",
        "print(\"Load arrays from the 'temp_arra.npz' file:\")\n",
        "with np.load('temp_arra.npz') as data:\n",
        "    x2 = data['x']\n",
        "    y2 = data['y']\n",
        "    print(x2)\n",
        "    print(y2)"
      ],
      "metadata": {
        "colab": {
          "base_uri": "https://localhost:8080/"
        },
        "id": "uuUe5hkcQ9cb",
        "outputId": "156eb054-00c9-4272-8be8-8d71387e6fb6"
      },
      "execution_count": null,
      "outputs": [
        {
          "output_type": "stream",
          "name": "stdout",
          "text": [
            "Original arrays:\n",
            "[0 1 2 3 4 5 6 7 8 9]\n",
            "[11 12 13 14 15 16 17 18 19]\n",
            "Load arrays from the 'temp_arra.npz' file:\n",
            "[0 1 2 3 4 5 6 7 8 9]\n",
            "[11 12 13 14 15 16 17 18 19]\n"
          ]
        }
      ]
    },
    {
      "cell_type": "markdown",
      "source": [
        "## Write a NumPy program to save a given array to a text file and load it."
      ],
      "metadata": {
        "id": "6QzKqGBeRZNn"
      }
    },
    {
      "cell_type": "code",
      "source": [
        "from numpy.core.fromnumeric import ndim\n",
        "x = np.arange(12).reshape(4, 3)\n",
        "print(\"Original array:\")\n",
        "print(x)\n",
        "header = 'col1 col2 col3'\n",
        "np.savetxt('temp.txt', x, fmt=\"%d\", header=header) \n",
        "print(\"After loading, content of the text file:\")\n",
        "result = np.loadtxt('temp.txt', dtype=int)\n",
        "print(result)"
      ],
      "metadata": {
        "colab": {
          "base_uri": "https://localhost:8080/"
        },
        "id": "EZGT-gleRYwL",
        "outputId": "676308c4-d041-443f-92ab-2bca8078b699"
      },
      "execution_count": null,
      "outputs": [
        {
          "output_type": "stream",
          "name": "stdout",
          "text": [
            "Original array:\n",
            "[[ 0  1  2]\n",
            " [ 3  4  5]\n",
            " [ 6  7  8]\n",
            " [ 9 10 11]]\n",
            "After loading, content of the text file:\n",
            "[[ 0  1  2]\n",
            " [ 3  4  5]\n",
            " [ 6  7  8]\n",
            " [ 9 10 11]]\n"
          ]
        }
      ]
    },
    {
      "cell_type": "markdown",
      "source": [
        "## Write a NumPy program to create a 4x4 array with random values, now create a new array from the said array swapping first and last rows.\n",
        "\n"
      ],
      "metadata": {
        "id": "HKNts7O5Shkg"
      }
    },
    {
      "cell_type": "code",
      "source": [
        "arr_a = np.arange(16, dtype=int).reshape(4, 4)\n",
        "\n",
        "arr_a[[0, -1], :] = arr_a[[-1, 0], :]\n",
        "print(arr_a)"
      ],
      "metadata": {
        "colab": {
          "base_uri": "https://localhost:8080/"
        },
        "id": "zpTBNDCZnyWl",
        "outputId": "5e0e7a65-726b-4bfe-eb67-294ab9e7beaa"
      },
      "execution_count": 2,
      "outputs": [
        {
          "output_type": "stream",
          "name": "stdout",
          "text": [
            "[[12 13 14 15]\n",
            " [ 4  5  6  7]\n",
            " [ 8  9 10 11]\n",
            " [ 0  1  2  3]]\n"
          ]
        }
      ]
    },
    {
      "cell_type": "markdown",
      "source": [
        "## Write a NumPy program to extract all numbers from a given array which are less and greater than a specified number."
      ],
      "metadata": {
        "id": "5Dd0vc8UqqZv"
      }
    },
    {
      "cell_type": "code",
      "source": [
        "arr_b = np.random.choice(10, 12).reshape(2, -1)"
      ],
      "metadata": {
        "id": "Xq7-VcSPpdaw"
      },
      "execution_count": 10,
      "outputs": []
    },
    {
      "cell_type": "code",
      "source": [
        "arr_b"
      ],
      "metadata": {
        "colab": {
          "base_uri": "https://localhost:8080/"
        },
        "id": "KqzNtSMGqJAX",
        "outputId": "a154b4d2-5fbf-4684-9aca-f8aca6a4ea74"
      },
      "execution_count": 7,
      "outputs": [
        {
          "output_type": "execute_result",
          "data": {
            "text/plain": [
              "array([[2, 4, 2, 8, 9, 5],\n",
              "       [9, 1, 6, 6, 4, 2]])"
            ]
          },
          "metadata": {},
          "execution_count": 7
        }
      ]
    },
    {
      "cell_type": "code",
      "source": [
        "print(arr_b[arr_b > 5])\n",
        "print(arr_b[arr_b < 3])"
      ],
      "metadata": {
        "colab": {
          "base_uri": "https://localhost:8080/"
        },
        "id": "M7L0hZ_RqOQu",
        "outputId": "40ab9635-fa30-435c-8dc4-44ea665f8758"
      },
      "execution_count": 12,
      "outputs": [
        {
          "output_type": "stream",
          "name": "stdout",
          "text": [
            "[9 8 8]\n",
            "[0 2 2 2 0]\n"
          ]
        }
      ]
    },
    {
      "cell_type": "markdown",
      "source": [
        "## Write a NumPy program to replace all numbers in a given array which is equal, less and greater to a given number."
      ],
      "metadata": {
        "id": "PP1_wHfmrmS5"
      }
    },
    {
      "cell_type": "code",
      "source": [
        "arr_c = np.random.choice(10, 12).reshape(2, -1)\n",
        "arr_c"
      ],
      "metadata": {
        "colab": {
          "base_uri": "https://localhost:8080/"
        },
        "id": "dFuMK_QWrlTq",
        "outputId": "880e2543-c7d9-4230-cda3-ca1e08468d80"
      },
      "execution_count": 13,
      "outputs": [
        {
          "output_type": "execute_result",
          "data": {
            "text/plain": [
              "array([[1, 6, 9, 2, 5, 5],\n",
              "       [2, 7, 7, 0, 9, 2]])"
            ]
          },
          "metadata": {},
          "execution_count": 13
        }
      ]
    },
    {
      "cell_type": "code",
      "source": [
        "n = 7\n",
        "r = 18\n",
        "print(\"\\nReplace elements of the said array which are equal to \",n,\"with\",r)\n",
        "print(np.where(arr_c == n, r, arr_c))\n",
        "print(\"\\nReplace elements with of the said array which are less than\",n,\"with\",r)\n",
        "print(np.where(arr_c < n, r, arr_c))\n",
        "print(\"\\nReplace elements with of the said array which are greater than\",n,\"with\",r)\n",
        "print(np.where(arr_c > n, r, arr_c))"
      ],
      "metadata": {
        "colab": {
          "base_uri": "https://localhost:8080/"
        },
        "id": "BaalcvD5qOaF",
        "outputId": "3e1612f3-b152-40c0-f7b8-acaf135ede27"
      },
      "execution_count": 20,
      "outputs": [
        {
          "output_type": "stream",
          "name": "stdout",
          "text": [
            "\n",
            "Replace elements of the said array which are equal to  5 with 18\n",
            "[[18 18 18 18  5  5]\n",
            " [18 18 18 18 18 18]]\n",
            "\n",
            "Replace elements with of the said array which are less than 5 with 18\n",
            "[[18  6  9 18  5  5]\n",
            " [18  7  7 18  9 18]]\n",
            "\n",
            "Replace elements with of the said array which are greater than 5 with 18\n",
            "[[ 1 18 18  2  5  5]\n",
            " [ 2 18 18  0 18  2]]\n"
          ]
        }
      ]
    },
    {
      "cell_type": "code",
      "source": [
        "print(np.where(arr_c > 6, False, np.ones(12, dtype=bool).reshape(2, -1)))\n"
      ],
      "metadata": {
        "colab": {
          "base_uri": "https://localhost:8080/"
        },
        "id": "97LjqYvktCJ3",
        "outputId": "87235485-2abd-4ad8-88c8-32204c18f0ea"
      },
      "execution_count": 32,
      "outputs": [
        {
          "output_type": "stream",
          "name": "stdout",
          "text": [
            "[[ True  True False  True  True  True]\n",
            " [ True False False  True False  True]]\n"
          ]
        }
      ]
    },
    {
      "cell_type": "markdown",
      "source": [
        "## Write a NumPy program to create an array of equal shape and data type of a given array."
      ],
      "metadata": {
        "id": "HoanUdbiuh8-"
      }
    },
    {
      "cell_type": "code",
      "source": [
        "print(np.zeros_like(arr_c))"
      ],
      "metadata": {
        "colab": {
          "base_uri": "https://localhost:8080/"
        },
        "id": "PI70eLqouhGJ",
        "outputId": "3f3c35f6-daa7-468f-f271-5b673643a0f7"
      },
      "execution_count": 34,
      "outputs": [
        {
          "output_type": "stream",
          "name": "stdout",
          "text": [
            "[[0 0 0 0 0 0]\n",
            " [0 0 0 0 0 0]]\n"
          ]
        }
      ]
    },
    {
      "cell_type": "markdown",
      "source": [
        "## Write a NumPy program to create a 4x4 array, now create a new array from the said array swapping first and last, second and third columns\n"
      ],
      "metadata": {
        "id": "87b6qRAMvETj"
      }
    },
    {
      "cell_type": "code",
      "source": [
        "arr_d = np.arange(16, dtype=int).reshape(4, 4)\n",
        "new_arr = np.ones_like(arr_d)\n",
        "\n",
        "new_arr[:, [0, -1]] = arr_d[:, [-1, 0]]\n",
        "new_arr[:, [1, 2]] = arr_d[:, [2, 1]]\n",
        "\n",
        "new_arr"
      ],
      "metadata": {
        "colab": {
          "base_uri": "https://localhost:8080/"
        },
        "id": "zhyH_uY7vQ9Z",
        "outputId": "686a6ae0-a901-4e2c-cda8-2604cbffe8f2"
      },
      "execution_count": 40,
      "outputs": [
        {
          "output_type": "execute_result",
          "data": {
            "text/plain": [
              "array([[ 3,  2,  1,  0],\n",
              "       [ 7,  6,  5,  4],\n",
              "       [11, 10,  9,  8],\n",
              "       [15, 14, 13, 12]])"
            ]
          },
          "metadata": {},
          "execution_count": 40
        }
      ]
    },
    {
      "cell_type": "code",
      "source": [
        "print(arr_d[:, ::-1])"
      ],
      "metadata": {
        "colab": {
          "base_uri": "https://localhost:8080/"
        },
        "id": "fCj2gCClwGDS",
        "outputId": "b8a2f014-4b99-4172-eb51-9f4eb1411a31"
      },
      "execution_count": 38,
      "outputs": [
        {
          "output_type": "stream",
          "name": "stdout",
          "text": [
            "[[ 3  2  1  0]\n",
            " [ 7  6  5  4]\n",
            " [11 10  9  8]\n",
            " [15 14 13 12]]\n"
          ]
        }
      ]
    },
    {
      "cell_type": "markdown",
      "source": [
        "## Write a NumPy program to swap rows and columns of a given array in reverse order"
      ],
      "metadata": {
        "id": "HFc4yJAkwPCK"
      }
    },
    {
      "cell_type": "code",
      "source": [
        "arr_d"
      ],
      "metadata": {
        "colab": {
          "base_uri": "https://localhost:8080/"
        },
        "id": "7lvsEGhtxDsK",
        "outputId": "d5a621c9-9c8c-4a27-bf3f-d0d9ae2f7e1c"
      },
      "execution_count": 41,
      "outputs": [
        {
          "output_type": "execute_result",
          "data": {
            "text/plain": [
              "array([[ 0,  1,  2,  3],\n",
              "       [ 4,  5,  6,  7],\n",
              "       [ 8,  9, 10, 11],\n",
              "       [12, 13, 14, 15]])"
            ]
          },
          "metadata": {},
          "execution_count": 41
        }
      ]
    },
    {
      "cell_type": "code",
      "source": [
        "new_d = np.zeros_like(arr_d)\n",
        "new_d[:, :] = arr_d[::-1, ::-1]\n",
        "\n",
        "new_d"
      ],
      "metadata": {
        "colab": {
          "base_uri": "https://localhost:8080/"
        },
        "id": "rM6vSmZ5xKYO",
        "outputId": "2095614e-2531-4f92-9ccd-6bfb041cfa94"
      },
      "execution_count": 42,
      "outputs": [
        {
          "output_type": "execute_result",
          "data": {
            "text/plain": [
              "array([[15, 14, 13, 12],\n",
              "       [11, 10,  9,  8],\n",
              "       [ 7,  6,  5,  4],\n",
              "       [ 3,  2,  1,  0]])"
            ]
          },
          "metadata": {},
          "execution_count": 42
        }
      ]
    },
    {
      "cell_type": "markdown",
      "source": [
        "## Write a NumPy program to multiply two given arrays of same size element-by-element."
      ],
      "metadata": {
        "id": "2MYELZP-yTbj"
      }
    },
    {
      "cell_type": "code",
      "source": [
        "arr_e = np.random.randint(0, 3, (4, 4))\n",
        "arr_e"
      ],
      "metadata": {
        "colab": {
          "base_uri": "https://localhost:8080/"
        },
        "id": "qC4YlVIcyZb2",
        "outputId": "2e77c22b-c077-412b-e713-3314a407e44b"
      },
      "execution_count": 50,
      "outputs": [
        {
          "output_type": "execute_result",
          "data": {
            "text/plain": [
              "array([[1, 2, 1, 0],\n",
              "       [1, 1, 1, 0],\n",
              "       [1, 2, 0, 0],\n",
              "       [2, 0, 2, 0]])"
            ]
          },
          "metadata": {},
          "execution_count": 50
        }
      ]
    },
    {
      "cell_type": "code",
      "source": [
        "np.multiply(arr_d, arr_e)"
      ],
      "metadata": {
        "colab": {
          "base_uri": "https://localhost:8080/"
        },
        "id": "RaLyvHyOyv2-",
        "outputId": "0c64f03d-fe97-4eb6-eef4-3482c8f0dc5f"
      },
      "execution_count": 51,
      "outputs": [
        {
          "output_type": "execute_result",
          "data": {
            "text/plain": [
              "array([[ 0,  2,  2,  0],\n",
              "       [ 4,  5,  6,  0],\n",
              "       [ 8, 18,  0,  0],\n",
              "       [24,  0, 28,  0]])"
            ]
          },
          "metadata": {},
          "execution_count": 51
        }
      ]
    }
  ]
}