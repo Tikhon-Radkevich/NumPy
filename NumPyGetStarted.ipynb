{
  "nbformat": 4,
  "nbformat_minor": 0,
  "metadata": {
    "colab": {
      "provenance": [],
      "authorship_tag": "ABX9TyPADgLIibTMoSZKKUxoH/TF",
      "include_colab_link": true
    },
    "kernelspec": {
      "name": "python3",
      "display_name": "Python 3"
    },
    "language_info": {
      "name": "python"
    }
  },
  "cells": [
    {
      "cell_type": "markdown",
      "metadata": {
        "id": "view-in-github",
        "colab_type": "text"
      },
      "source": [
        "<a href=\"https://colab.research.google.com/github/Tikhon-Radkevich/NumPy/blob/main/NumPyGetStarted.ipynb\" target=\"_parent\"><img src=\"https://colab.research.google.com/assets/colab-badge.svg\" alt=\"Open In Colab\"/></a>"
      ]
    },
    {
      "cell_type": "code",
      "execution_count": 4,
      "metadata": {
        "colab": {
          "base_uri": "https://localhost:8080/"
        },
        "id": "pw9hSvzYOmet",
        "outputId": "cb5d7b62-b5bd-4340-cde6-9f8f6a223063"
      },
      "outputs": [
        {
          "output_type": "stream",
          "name": "stdout",
          "text": [
            "1.21.6\n"
          ]
        }
      ],
      "source": [
        "import numpy as np\n",
        "\n",
        "print(np.__version__)"
      ]
    },
    {
      "cell_type": "markdown",
      "source": [
        "## sum"
      ],
      "metadata": {
        "id": "AUQRwiYyPYEv"
      }
    },
    {
      "cell_type": "code",
      "source": [
        "a = np.array(\n",
        "    [[1, 2, 3], [4, 5, 6]]\n",
        ")\n",
        "b = np.array(\n",
        "    [[10, 20, 30], [40, 50, 60]]\n",
        ")\n",
        "\n",
        "c = a + b\n",
        "print(c)"
      ],
      "metadata": {
        "colab": {
          "base_uri": "https://localhost:8080/"
        },
        "id": "D7_Pv3E_O5ge",
        "outputId": "41da1971-94b5-40bc-ef33-8ceb2bb0c126"
      },
      "execution_count": 9,
      "outputs": [
        {
          "output_type": "stream",
          "name": "stdout",
          "text": [
            "[[11 22 33]\n",
            " [44 55 66]]\n"
          ]
        }
      ]
    },
    {
      "cell_type": "markdown",
      "source": [
        "## Multiplying by scalar"
      ],
      "metadata": {
        "id": "H_jS8tn3QDVp"
      }
    },
    {
      "cell_type": "code",
      "source": [
        "double_a = a * 2\n",
        "print(double_a)"
      ],
      "metadata": {
        "colab": {
          "base_uri": "https://localhost:8080/"
        },
        "id": "gNISh10LPw_v",
        "outputId": "0cff2fd2-6ec4-4350-852b-8b0a5a41e731"
      },
      "execution_count": 7,
      "outputs": [
        {
          "output_type": "stream",
          "name": "stdout",
          "text": [
            "[[ 2  4  6]\n",
            " [ 8 10 12]]\n"
          ]
        }
      ]
    },
    {
      "cell_type": "markdown",
      "source": [
        "## Identity Matrix"
      ],
      "metadata": {
        "id": "5lDQyREHQmHs"
      }
    },
    {
      "cell_type": "code",
      "source": [
        "ones = np.ones((4, 4))\n",
        "print(ones)"
      ],
      "metadata": {
        "colab": {
          "base_uri": "https://localhost:8080/"
        },
        "id": "31RWTu4oQlcx",
        "outputId": "a80b586a-0b9e-42d7-a6b2-1cb43bbb68f1"
      },
      "execution_count": 15,
      "outputs": [
        {
          "output_type": "stream",
          "name": "stdout",
          "text": [
            "[[1. 1. 1. 1.]\n",
            " [1. 1. 1. 1.]\n",
            " [1. 1. 1. 1.]\n",
            " [1. 1. 1. 1.]]\n"
          ]
        }
      ]
    },
    {
      "cell_type": "code",
      "source": [
        "arr = np.eye(N=4, M=4, k=-1, dtype=int)\n",
        "print(arr)"
      ],
      "metadata": {
        "colab": {
          "base_uri": "https://localhost:8080/"
        },
        "id": "xk67yoYERFKI",
        "outputId": "13bb7e25-9940-4ae3-8695-b85d202c9911"
      },
      "execution_count": 19,
      "outputs": [
        {
          "output_type": "stream",
          "name": "stdout",
          "text": [
            "[[0 0 0 0]\n",
            " [1 0 0 0]\n",
            " [0 1 0 0]\n",
            " [0 0 1 0]]\n"
          ]
        }
      ]
    },
    {
      "cell_type": "markdown",
      "source": [
        "##  1-D to 3-D"
      ],
      "metadata": {
        "id": "6-yVgg5uSMcB"
      }
    },
    {
      "cell_type": "code",
      "source": [
        "one_d = np.array([i for i in range(27)])\n",
        "\n",
        "three_d = one_d.reshape(3, 3, 3)\n",
        "print(three_d)"
      ],
      "metadata": {
        "colab": {
          "base_uri": "https://localhost:8080/"
        },
        "id": "-QYak28ZSVr6",
        "outputId": "8acbf34f-361b-4015-b374-02b305ca016a"
      },
      "execution_count": 22,
      "outputs": [
        {
          "output_type": "stream",
          "name": "stdout",
          "text": [
            "[[[ 0  1  2]\n",
            "  [ 3  4  5]\n",
            "  [ 6  7  8]]\n",
            "\n",
            " [[ 9 10 11]\n",
            "  [12 13 14]\n",
            "  [15 16 17]]\n",
            "\n",
            " [[18 19 20]\n",
            "  [21 22 23]\n",
            "  [24 25 26]]]\n"
          ]
        }
      ]
    },
    {
      "cell_type": "markdown",
      "source": [
        "## elements from float to int"
      ],
      "metadata": {
        "id": "Pru02-DRS69a"
      }
    },
    {
      "cell_type": "code",
      "source": [
        "d = np.array([1.3, 2.7, 8.0])\n",
        "\n",
        "new_d = d.astype(\"int\")\n",
        "print(new_d)"
      ],
      "metadata": {
        "colab": {
          "base_uri": "https://localhost:8080/"
        },
        "id": "qc669hXQS6YS",
        "outputId": "0203eea2-9ae4-47eb-a1a2-3be9e22d413e"
      },
      "execution_count": 26,
      "outputs": [
        {
          "output_type": "stream",
          "name": "stdout",
          "text": [
            "[1 2 8]\n"
          ]
        }
      ]
    },
    {
      "cell_type": "markdown",
      "source": [
        "## Convert binary to boolean "
      ],
      "metadata": {
        "id": "LA_fuEZ8T0Dp"
      }
    },
    {
      "cell_type": "code",
      "source": [
        "i = np.array([0, 1, 1, 1, 0, 0, 1, 0])\n",
        "\n",
        "i = i.reshape(-1, 2)\n",
        "\n",
        "new_i = i.astype(\"bool\")\n",
        "print(new_i)"
      ],
      "metadata": {
        "colab": {
          "base_uri": "https://localhost:8080/"
        },
        "id": "ac-H8xreTqwK",
        "outputId": "6fa3b062-8012-492c-b2fd-bb7d3e7558a8"
      },
      "execution_count": 30,
      "outputs": [
        {
          "output_type": "stream",
          "name": "stdout",
          "text": [
            "[[False  True]\n",
            " [ True  True]\n",
            " [False False]\n",
            " [ True False]]\n"
          ]
        }
      ]
    },
    {
      "cell_type": "markdown",
      "source": [
        "## stacking"
      ],
      "metadata": {
        "id": "KLZ8Y0gEUzbW"
      }
    },
    {
      "cell_type": "code",
      "source": [
        "a1 = np.array([[1,2,3],\n",
        "               [4,5,6]])\n",
        "\n",
        "a2 = np.array([[7,8,9],\n",
        "               [10,11,12]])\n",
        "\n",
        "hstack = np.hstack((a1, a2))\n",
        "vstack = np.vstack((a1, a2))\n",
        "print(hstack, vstack, sep=\"\\n\"*2)"
      ],
      "metadata": {
        "colab": {
          "base_uri": "https://localhost:8080/"
        },
        "id": "m7kZobvFUzrw",
        "outputId": "51b04f1f-2dc9-4647-9e9a-b5bfa89acb3e"
      },
      "execution_count": 37,
      "outputs": [
        {
          "output_type": "stream",
          "name": "stdout",
          "text": [
            "[[ 1  2  3  7  8  9]\n",
            " [ 4  5  6 10 11 12]]\n",
            "\n",
            "[[ 1  2  3]\n",
            " [ 4  5  6]\n",
            " [ 7  8  9]\n",
            " [10 11 12]]\n"
          ]
        }
      ]
    },
    {
      "cell_type": "markdown",
      "source": [
        "## Generation"
      ],
      "metadata": {
        "id": "1ZllfPUyVzaS"
      }
    },
    {
      "cell_type": "code",
      "source": [
        "f = np.arange(0, 101, 5)\n",
        "print(f)"
      ],
      "metadata": {
        "colab": {
          "base_uri": "https://localhost:8080/"
        },
        "id": "Z93sQ3kCVy7g",
        "outputId": "bafc46dd-e7f7-48d9-b611-0aee400b1a12"
      },
      "execution_count": 38,
      "outputs": [
        {
          "output_type": "stream",
          "name": "stdout",
          "text": [
            "[  0   5  10  15  20  25  30  35  40  45  50  55  60  65  70  75  80  85\n",
            "  90  95 100]\n"
          ]
        }
      ]
    },
    {
      "cell_type": "markdown",
      "source": [
        "## same idexes"
      ],
      "metadata": {
        "id": "8wWgcAXsW1Of"
      }
    },
    {
      "cell_type": "code",
      "source": [
        "g = np.array([1,2,3,4,5])\n",
        "\n",
        "h = np.array([1,3,2,4,5])\n",
        "\n",
        "print(np.where(g == h))"
      ],
      "metadata": {
        "colab": {
          "base_uri": "https://localhost:8080/"
        },
        "id": "jP8ou7U1WiNK",
        "outputId": "bf5b53ae-e84c-4482-fc07-cd2df9fc0ef3"
      },
      "execution_count": 40,
      "outputs": [
        {
          "output_type": "stream",
          "name": "stdout",
          "text": [
            "(array([0, 3, 4]),)\n"
          ]
        }
      ]
    },
    {
      "cell_type": "markdown",
      "source": [
        "## linspace"
      ],
      "metadata": {
        "id": "ghnsCzCuXRr2"
      }
    },
    {
      "cell_type": "code",
      "source": [
        "print(np.linspace([[0, 10], [30, 40]], [[10, 20], [40, 50]], 5, dtype=int, axis=0))"
      ],
      "metadata": {
        "colab": {
          "base_uri": "https://localhost:8080/"
        },
        "id": "bk_GvFS1XRMe",
        "outputId": "26fed75f-7032-4ed6-bff9-73e5af8395e8"
      },
      "execution_count": 67,
      "outputs": [
        {
          "output_type": "stream",
          "name": "stdout",
          "text": [
            "[[[ 0 10]\n",
            "  [30 40]]\n",
            "\n",
            " [[ 2 12]\n",
            "  [32 42]]\n",
            "\n",
            " [[ 5 15]\n",
            "  [35 45]]\n",
            "\n",
            " [[ 7 17]\n",
            "  [37 47]]\n",
            "\n",
            " [[10 20]\n",
            "  [40 50]]]\n"
          ]
        }
      ]
    },
    {
      "cell_type": "code",
      "source": [
        "print(np.linspace([[0, 10], [30, 40]], [[10, 20], [40, 50]], 5, dtype=int, axis=1))"
      ],
      "metadata": {
        "colab": {
          "base_uri": "https://localhost:8080/"
        },
        "id": "gTOxdBIPXv6k",
        "outputId": "ce7ed77f-7c23-4b40-e482-58deaecca1a8"
      },
      "execution_count": 68,
      "outputs": [
        {
          "output_type": "stream",
          "name": "stdout",
          "text": [
            "[[[ 0 10]\n",
            "  [ 2 12]\n",
            "  [ 5 15]\n",
            "  [ 7 17]\n",
            "  [10 20]]\n",
            "\n",
            " [[30 40]\n",
            "  [32 42]\n",
            "  [35 45]\n",
            "  [37 47]\n",
            "  [40 50]]]\n"
          ]
        }
      ]
    },
    {
      "cell_type": "code",
      "source": [
        "print(np.linspace([[0, 10], [30, 40]], [[10, 20], [40, 50]], 5, dtype=int, axis=2))"
      ],
      "metadata": {
        "colab": {
          "base_uri": "https://localhost:8080/"
        },
        "id": "GhEL9LfVbK0S",
        "outputId": "3fe0de41-74a8-4e78-b175-8f5174801adf"
      },
      "execution_count": 69,
      "outputs": [
        {
          "output_type": "stream",
          "name": "stdout",
          "text": [
            "[[[ 0  2  5  7 10]\n",
            "  [10 12 15 17 20]]\n",
            "\n",
            " [[30 32 35 37 40]\n",
            "  [40 42 45 47 50]]]\n"
          ]
        }
      ]
    },
    {
      "cell_type": "markdown",
      "source": [
        "## with one particular value"
      ],
      "metadata": {
        "id": "mDs6NmX9bOuR"
      }
    },
    {
      "cell_type": "code",
      "source": [
        "print(np.full((3, 5), 7))"
      ],
      "metadata": {
        "colab": {
          "base_uri": "https://localhost:8080/"
        },
        "id": "sLe0wlW2bc3R",
        "outputId": "4cb54411-8cb8-4c4f-b089-5c8b159bf622"
      },
      "execution_count": 70,
      "outputs": [
        {
          "output_type": "stream",
          "name": "stdout",
          "text": [
            "[[7 7 7 7 7]\n",
            " [7 7 7 7 7]\n",
            " [7 7 7 7 7]]\n"
          ]
        }
      ]
    },
    {
      "cell_type": "markdown",
      "source": [],
      "metadata": {
        "id": "Ss2nQK0Lbnae"
      }
    },
    {
      "cell_type": "code",
      "source": [],
      "metadata": {
        "id": "VC0la_DWbnwW"
      },
      "execution_count": null,
      "outputs": []
    }
  ]
}